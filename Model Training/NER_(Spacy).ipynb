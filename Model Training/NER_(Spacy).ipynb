{
  "nbformat": 4,
  "nbformat_minor": 0,
  "metadata": {
    "colab": {
      "name": "NER (Spacy)",
      "provenance": [],
      "collapsed_sections": [],
      "include_colab_link": true
    },
    "kernelspec": {
      "name": "python3",
      "display_name": "Python 3"
    },
    "language_info": {
      "name": "python"
    },
    "accelerator": "GPU"
  },
  "cells": [
    {
      "cell_type": "markdown",
      "metadata": {
        "id": "view-in-github",
        "colab_type": "text"
      },
      "source": [
        "<a href=\"https://colab.research.google.com/github/zaynabreza/ThreatGator/blob/main/Model%20Training/NER_(Spacy).ipynb\" target=\"_parent\"><img src=\"https://colab.research.google.com/assets/colab-badge.svg\" alt=\"Open In Colab\"/></a>"
      ]
    },
    {
      "cell_type": "code",
      "source": [
        "import spacy"
      ],
      "metadata": {
        "id": "vKVzHz5-uLG8"
      },
      "execution_count": null,
      "outputs": []
    },
    {
      "cell_type": "code",
      "execution_count": null,
      "metadata": {
        "id": "xSynlspejegS"
      },
      "outputs": [],
      "source": [
        "#converting from IOB to JSON\n",
        "# !python -m spacy convert /content/sample_data/train_data.tsv ./ -t json -n 1 -c iob\n",
        "# !python -m spacy convert /content/sample_data/dev_data.tsv ./ -t json -n 1 -c iob"
      ]
    },
    {
      "cell_type": "code",
      "source": [
        "#converting JSON to .spacy binary\n",
        "# !python -m spacy convert /content/train_data.json ./ -t spacy\n",
        "# !python -m spacy convert /content/dev_data.json ./ -t spacy"
      ],
      "metadata": {
        "id": "n-lfSuNNlWAu"
      },
      "execution_count": null,
      "outputs": []
    },
    {
      "cell_type": "code",
      "source": [
        "!pip install -U spacy\n",
        "!python -m spacy download en_core_web_trf"
      ],
      "metadata": {
        "id": "cKU5KS7Tlg9i"
      },
      "execution_count": null,
      "outputs": []
    },
    {
      "cell_type": "code",
      "source": [
        "!pip install -U spacy-nightly --pre"
      ],
      "metadata": {
        "id": "PKC2HjaxYpYW"
      },
      "execution_count": null,
      "outputs": []
    },
    {
      "cell_type": "code",
      "source": [
        "!pip install -U spacy[transformers]"
      ],
      "metadata": {
        "id": "FWGXEXZQl2RZ"
      },
      "execution_count": null,
      "outputs": []
    },
    {
      "cell_type": "code",
      "source": [
        "# testing if GPU found\n",
        "import tensorflow as tf\n",
        "tf.test.gpu_device_name()"
      ],
      "metadata": {
        "colab": {
          "base_uri": "https://localhost:8080/",
          "height": 35
        },
        "id": "NBCDBC3rZC-A",
        "outputId": "369f86ec-2940-49e8-c3eb-da48335bc3c2"
      },
      "execution_count": null,
      "outputs": [
        {
          "output_type": "execute_result",
          "data": {
            "application/vnd.google.colaboratory.intrinsic+json": {
              "type": "string"
            },
            "text/plain": [
              "'/device:GPU:0'"
            ]
          },
          "metadata": {},
          "execution_count": 4
        }
      ]
    },
    {
      "cell_type": "code",
      "source": [
        "!python -m spacy init fill-config /content/base_config.cfg /content/config.cfg"
      ],
      "metadata": {
        "id": "APA4z3pvnCET",
        "colab": {
          "base_uri": "https://localhost:8080/"
        },
        "outputId": "8fcbf192-dc58-4289-8e37-4fae5ffe22ab"
      },
      "execution_count": null,
      "outputs": [
        {
          "output_type": "stream",
          "name": "stdout",
          "text": [
            "\u001b[38;5;2m✔ Auto-filled config with all values\u001b[0m\n",
            "\u001b[38;5;2m✔ Saved config\u001b[0m\n",
            "/content/config.cfg\n",
            "You can now add your data and train your pipeline:\n",
            "python -m spacy train config.cfg --paths.train ./train.spacy --paths.dev ./dev.spacy\n"
          ]
        }
      ]
    },
    {
      "cell_type": "code",
      "source": [
        "!python -m spacy debug data /content/config.cfg"
      ],
      "metadata": {
        "id": "Tj0q6lKCoHVC"
      },
      "execution_count": null,
      "outputs": []
    },
    {
      "cell_type": "code",
      "source": [
        "spacy.prefer_gpu()"
      ],
      "metadata": {
        "colab": {
          "base_uri": "https://localhost:8080/"
        },
        "id": "tyNT2MfcSKX4",
        "outputId": "6cbd26ce-4222-477c-822f-57ae9f46002f"
      },
      "execution_count": null,
      "outputs": [
        {
          "output_type": "execute_result",
          "data": {
            "text/plain": [
              "True"
            ]
          },
          "metadata": {},
          "execution_count": 8
        }
      ]
    },
    {
      "cell_type": "code",
      "source": [
        "import cupy\n",
        "cupy.__version__"
      ],
      "metadata": {
        "colab": {
          "base_uri": "https://localhost:8080/",
          "height": 35
        },
        "id": "NCmX9J59T3AM",
        "outputId": "c3689bfb-7871-4b9c-d80e-787c07fa58e8"
      },
      "execution_count": null,
      "outputs": [
        {
          "output_type": "execute_result",
          "data": {
            "application/vnd.google.colaboratory.intrinsic+json": {
              "type": "string"
            },
            "text/plain": [
              "'9.4.0'"
            ]
          },
          "metadata": {},
          "execution_count": 9
        }
      ]
    },
    {
      "cell_type": "code",
      "source": [
        "spacy.prefer_gpu() # or spacy.require_gpu()\n"
      ],
      "metadata": {
        "colab": {
          "base_uri": "https://localhost:8080/"
        },
        "id": "wMqwr8sVjP3t",
        "outputId": "e38388de-10d5-4b5d-bdd7-bec30868b0f7"
      },
      "execution_count": null,
      "outputs": [
        {
          "output_type": "execute_result",
          "data": {
            "text/plain": [
              "True"
            ]
          },
          "metadata": {},
          "execution_count": 10
        }
      ]
    },
    {
      "cell_type": "code",
      "source": [
        "!python -m spacy train -g 0 /content/config.cfg --output ./"
      ],
      "metadata": {
        "colab": {
          "base_uri": "https://localhost:8080/"
        },
        "id": "3ccmjxD-oVhL",
        "outputId": "21de3cd3-621d-417a-bfee-f2345d2536a9"
      },
      "execution_count": null,
      "outputs": [
        {
          "output_type": "stream",
          "name": "stdout",
          "text": [
            "\u001b[38;5;4mℹ Using GPU: 0\u001b[0m\n",
            "\u001b[1m\n",
            "=========================== Initializing pipeline ===========================\u001b[0m\n",
            "Set up nlp object from config\n",
            "Pipeline: ['transformer', 'ner']\n",
            "Created vocabulary\n",
            "Finished initializing nlp object\n",
            "Some weights of the model checkpoint at roberta-base were not used when initializing RobertaModel: ['lm_head.layer_norm.weight', 'lm_head.layer_norm.bias', 'lm_head.dense.bias', 'lm_head.dense.weight', 'lm_head.bias', 'lm_head.decoder.weight']\n",
            "- This IS expected if you are initializing RobertaModel from the checkpoint of a model trained on another task or with another architecture (e.g. initializing a BertForSequenceClassification model from a BertForPreTraining model).\n",
            "- This IS NOT expected if you are initializing RobertaModel from the checkpoint of a model that you expect to be exactly identical (initializing a BertForSequenceClassification model from a BertForSequenceClassification model).\n",
            "Initialized pipeline components: ['transformer', 'ner']\n",
            "\u001b[38;5;2m✔ Initialized pipeline\u001b[0m\n",
            "\u001b[1m\n",
            "============================= Training pipeline =============================\u001b[0m\n",
            "\u001b[38;5;4mℹ Pipeline: ['transformer', 'ner']\u001b[0m\n",
            "\u001b[38;5;4mℹ Initial learn rate: 0.0\u001b[0m\n",
            "E    #       LOSS TRANS...  LOSS NER  ENTS_F  ENTS_P  ENTS_R  SCORE \n",
            "---  ------  -------------  --------  ------  ------  ------  ------\n",
            "  0       0        2234.65    504.95    0.00    0.00    0.00    0.00\n",
            " 66     200      101708.05  80809.36   36.14   35.96   36.32    0.36\n",
            "133     400        3035.11   3384.47   43.66   41.33   46.27    0.44\n",
            "200     600         169.28    959.38   43.71   41.82   45.77    0.44\n",
            "266     800         117.22    903.13   43.58   40.43   47.26    0.44\n",
            "333    1000          54.69    848.81   44.19   41.48   47.26    0.44\n",
            "400    1200         293.25   1078.40   44.02   42.40   45.77    0.44\n",
            "466    1400          55.31    844.17   42.30   39.32   45.77    0.42\n",
            "533    1600          16.62    814.06   38.81   35.86   42.29    0.39\n",
            "600    1800          44.45    834.03   44.85   41.53   48.76    0.45\n",
            "666    2000          36.27    812.70   41.93   40.65   43.28    0.42\n",
            "733    2200        9076.30   4105.76   42.13   39.39   45.27    0.42\n",
            "800    2400          62.26    814.44   42.99   39.42   47.26    0.43\n",
            "866    2600          44.12    788.80   43.26   40.61   46.27    0.43\n",
            "933    2800          12.21    762.12   43.22   40.17   46.77    0.43\n",
            "1000    3000          90.14    768.87   41.98   39.91   44.28    0.42\n",
            "1066    3200          85.58    784.24   43.22   40.17   46.77    0.43\n",
            "1133    3400           8.59    723.25   42.65   42.03   43.28    0.43\n",
            "\u001b[38;5;2m✔ Saved pipeline to output directory\u001b[0m\n",
            "model-last\n"
          ]
        }
      ]
    },
    {
      "cell_type": "code",
      "source": [
        "!ls"
      ],
      "metadata": {
        "colab": {
          "base_uri": "https://localhost:8080/"
        },
        "id": "GQeaAxGyjN0z",
        "outputId": "fac7c478-3772-4db1-b19a-2b75833d21ec"
      },
      "execution_count": null,
      "outputs": [
        {
          "output_type": "stream",
          "name": "stdout",
          "text": [
            "sample_data\n"
          ]
        }
      ]
    },
    {
      "cell_type": "code",
      "source": [
        "from google.colab import drive\n",
        "drive.mount('/content/gdrive')"
      ],
      "metadata": {
        "colab": {
          "base_uri": "https://localhost:8080/"
        },
        "id": "OqBNmzxbUg1d",
        "outputId": "4c91cdef-c581-4f84-f990-eb01b4afdc9d"
      },
      "execution_count": null,
      "outputs": [
        {
          "output_type": "stream",
          "name": "stdout",
          "text": [
            "Mounted at /content/gdrive\n"
          ]
        }
      ]
    },
    {
      "cell_type": "code",
      "source": [
        "!pip install spacy==2.2.2\n",
        "!pip install spacy-transformers"
      ],
      "metadata": {
        "id": "uIVM-X7JWErQ"
      },
      "execution_count": null,
      "outputs": []
    },
    {
      "cell_type": "code",
      "source": [
        "!pip install -U spacy-nightly --pre\n",
        "import spacy"
      ],
      "metadata": {
        "id": "JlT8rNAZX0ea"
      },
      "execution_count": null,
      "outputs": []
    },
    {
      "cell_type": "code",
      "source": [
        "!cp -r model-best /content/gdrive/MyDrive/FYP/NERSpacy/roberta"
      ],
      "metadata": {
        "id": "URTo4VjikDBe"
      },
      "execution_count": null,
      "outputs": []
    },
    {
      "cell_type": "code",
      "source": [
        "nlp = spacy.load(\"/content/gdrive/MyDrive/FYP/NERSpacy/bert-uncased/model-best\")\n",
        "text = [\"Lazarus Group is a threat group that has been attributed to the North Korean government .\"\n",
        "]\n",
        "for doc in nlp.pipe(text, disable=[\"tagger\", \"parser\"]):\n",
        "    print([(ent.text, ent.label_) for ent in doc.ents])"
      ],
      "metadata": {
        "id": "jYQqipmBos4N",
        "colab": {
          "base_uri": "https://localhost:8080/"
        },
        "outputId": "e591db51-cd3e-4967-cf0c-17ff49a4edae"
      },
      "execution_count": null,
      "outputs": [
        {
          "output_type": "stream",
          "name": "stderr",
          "text": [
            "/usr/local/lib/python3.7/dist-packages/spacy/util.py:833: UserWarning: [W095] Model 'en_pipeline' (0.0.0) was trained with spaCy v3.0 and may not be 100% compatible with the current version (3.2.2). If you see errors or degraded performance, download a newer compatible model or retrain your custom model with the current spaCy version. For more details and available updates, run: python -m spacy validate\n",
            "  warnings.warn(warn_msg)\n"
          ]
        },
        {
          "output_type": "stream",
          "name": "stdout",
          "text": [
            "[('Lazarus Group', 'TA'), ('North Korean government', 'ID')]\n"
          ]
        }
      ]
    },
    {
      "cell_type": "code",
      "source": [
        "from spacy.tokens import Doc\n",
        "from spacy.training import Example\n",
        "from spacy.scorer import Scorer"
      ],
      "metadata": {
        "id": "4YB3SC-KOl2m"
      },
      "execution_count": null,
      "outputs": []
    },
    {
      "cell_type": "code",
      "source": [
        "sentences=[[\"Lazarus Group is a threat group that has been attributed to the North Korean government .\"],\n",
        "           [\" Lazarus Group is a threat group that has been attributed to the North Korean government .\"],\n",
        "           [\" Lazarus group heavily targeted individuals with spear phishing emails .\"],\n",
        "           [\"AppleJeus has been used by Lazarus Group .\"],\n",
        "           [\"Lazarus Group has renamed the TAINTEDSCRIBE main executable to disguise itself as Microsoft  s narrator .\"],\n",
        "           [\"Alert Y1iiu Ransomware lock the files and demands a ransom for unlocking . \"],\n",
        "           [\"Alert Merlen is malicious software that encrypts data and demands ransom for the decryption\"],\n",
        "           [\"IKEA hit by a cyber attack that uses stolen internal reply-chain emails\"],\n",
        "           [\"Gummy Browsers Attack Lets Hackers Spoof Your Digital Identity\"],\n",
        "           [\"Alert Atom Silo Ransomware has been spotted abusing a recently patched vulnerability in Confluence Server and Data Center .\"],\n",
        "           [\"Alert PJobRAT is android spyware that mainly targets Indian Military personnel . This spyware has been discovered recently\"],\n",
        "           [\"CronRAT : Linux malware scheduled to run on February 31st\"]]\n",
        "examples=[]\n",
        "nlp = spacy.load(\"/content/gdrive/MyDrive/FYP/NERSpacy/roberta/model-best\")\n",
        "for text in sentences:\n",
        "  for doc in nlp.pipe(text, disable=[\"tagger\", \"parser\"]):\n",
        "    #  print([(ent.text, ent.label_) for ent in doc.ents])\n",
        "    gold_dict = {'entities': [(ent.start_char, ent.end_char, ent.label_) for ent in doc.ents]}\n",
        "    print(gold_dict)\n",
        "    example = Example.from_dict(doc, gold_dict)\n",
        "    examples.append(example)\n",
        "      "
      ],
      "metadata": {
        "colab": {
          "base_uri": "https://localhost:8080/"
        },
        "id": "zES5H7XuOrGf",
        "outputId": "7756f542-a775-487d-845d-c79b338af75f"
      },
      "execution_count": null,
      "outputs": [
        {
          "output_type": "stream",
          "name": "stderr",
          "text": [
            "/usr/local/lib/python3.7/dist-packages/spacy/util.py:833: UserWarning: [W095] Model 'en_pipeline' (0.0.0) was trained with spaCy v3.0 and may not be 100% compatible with the current version (3.2.2). If you see errors or degraded performance, download a newer compatible model or retrain your custom model with the current spaCy version. For more details and available updates, run: python -m spacy validate\n",
            "  warnings.warn(warn_msg)\n"
          ]
        },
        {
          "output_type": "stream",
          "name": "stdout",
          "text": [
            "{'entities': [(0, 13, 'TA'), (64, 87, 'ID')]}\n",
            "{'entities': [(1, 14, 'TA'), (65, 88, 'ID')]}\n",
            "{'entities': [(49, 70, 'AP')]}\n",
            "{'entities': [(0, 9, 'M'), (27, 40, 'TA')]}\n",
            "{'entities': [(0, 13, 'TA'), (30, 59, 'M'), (82, 91, 'ID')]}\n",
            "{'entities': [(6, 22, 'M'), (23, 72, 'AP')]}\n",
            "{'entities': [(6, 12, 'M'), (40, 91, 'AP')]}\n",
            "{'entities': [(0, 4, 'ID'), (44, 58, 'T'), (58, 71, 'T')]}\n",
            "{'entities': [(0, 21, 'M'), (35, 62, 'AP')]}\n",
            "{'entities': [(6, 26, 'M'), (88, 105, 'INF'), (110, 121, 'ID')]}\n",
            "{'entities': [(6, 13, 'M'), (17, 24, 'ID'), (25, 32, 'M'), (53, 78, 'ID')]}\n",
            "{'entities': [(0, 7, 'M'), (10, 15, 'ID')]}\n"
          ]
        }
      ]
    },
    {
      "cell_type": "code",
      "source": [
        "scorer = Scorer(nlp)\n",
        "scores = scorer.score(examples)"
      ],
      "metadata": {
        "id": "BkXwO986MPIU"
      },
      "execution_count": null,
      "outputs": []
    },
    {
      "cell_type": "code",
      "source": [
        ""
      ],
      "metadata": {
        "colab": {
          "base_uri": "https://localhost:8080/"
        },
        "id": "RhW1bBAFMCMI",
        "outputId": "5a4338bc-d0b2-4448-d0ee-58a88fd83449"
      },
      "execution_count": null,
      "outputs": [
        {
          "output_type": "stream",
          "name": "stdout",
          "text": [
            "{'token_acc': 1.0, 'token_p': 1.0, 'token_r': 1.0, 'token_f': 1.0, 'ents_p': 1.0, 'ents_r': 1.0, 'ents_f': 1.0, 'ents_per_type': {'TA': {'p': 1.0, 'r': 1.0, 'f': 1.0}, 'ID': {'p': 1.0, 'r': 1.0, 'f': 1.0}, 'AP': {'p': 1.0, 'r': 1.0, 'f': 1.0}, 'M': {'p': 1.0, 'r': 1.0, 'f': 1.0}, 'T': {'p': 1.0, 'r': 1.0, 'f': 1.0}, 'INF': {'p': 1.0, 'r': 1.0, 'f': 1.0}}}\n"
          ]
        }
      ]
    }
  ]
}